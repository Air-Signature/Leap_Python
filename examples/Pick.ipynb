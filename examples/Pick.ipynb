{
 "cells": [
  {
   "cell_type": "code",
   "execution_count": 4,
   "metadata": {
    "ExecuteTime": {
     "end_time": "2024-01-21T10:38:08.308386Z",
     "start_time": "2024-01-21T10:38:08.304126Z"
    }
   },
   "outputs": [],
   "source": [
    "import sys\n",
    "import matplotlib.pyplot as plt\n",
    "from mpl_toolkits.mplot3d import Axes3D\n",
    "from PyQt5.QtWidgets import QApplication, QMainWindow, QSizePolicy, QVBoxLayout, QWidget\n",
    "from matplotlib.backends.backend_qt5agg import FigureCanvasQTAgg as FigureCanvas\n",
    "import pandas as pd"
   ]
  },
  {
   "cell_type": "code",
   "execution_count": 5,
   "metadata": {
    "ExecuteTime": {
     "end_time": "2024-01-21T10:38:08.314093Z",
     "start_time": "2024-01-21T10:38:08.311416Z"
    }
   },
   "outputs": [],
   "source": [
    "class RealTime3DPlot(QMainWindow):\n",
    "    def __init__(self, df):\n",
    "        super().__init__()\n",
    "\n",
    "        self.df = df\n",
    "\n",
    "        self.initUI()\n",
    "\n",
    "    def initUI(self):\n",
    "        self.setWindowTitle('Real-Time 3D Plot')\n",
    "        self.setGeometry(100, 100, 800, 600)\n",
    "\n",
    "        self.centralWidget = QWidget(self)\n",
    "        self.setCentralWidget(self.centralWidget)\n",
    "\n",
    "        self.layout = QVBoxLayout(self.centralWidget)\n",
    "\n",
    "        self.fig = plt.Figure()\n",
    "        self.ax = self.fig.add_subplot(111, projection='3d')\n",
    "        self.scatter = self.ax.scatter(self.df['index_x_coor'], self.df['index_y_coor'], self.df['index_z_coor'], c='r', picker=True)\n",
    "\n",
    "\n",
    "        self.ax.set_xlabel('X')\n",
    "        self.ax.set_ylabel('Y')\n",
    "        self.ax.set_zlabel('Z')\n",
    "\n",
    "        self.ax.view_init(elev=90, azim=-90)\n",
    "\n",
    "        self.canvas = FigureCanvas(self.fig)\n",
    "        self.canvas.setSizePolicy(QSizePolicy.Expanding, QSizePolicy.Expanding)\n",
    "\n",
    "        self.layout.addWidget(self.canvas)\n",
    "\n",
    "        self.canvas.mpl_connect('pick_event', self.on_pick)\n",
    "\n",
    "        self.show()\n",
    "        \n",
    "    def on_pick(self, event):\n",
    "        ind = event.ind\n",
    "\n",
    "        # Remove selected points from the DataFrame\n",
    "        self.df.drop(self.df.index[ind], inplace=True)\n",
    "\n",
    "        # Update the scatter plot\n",
    "        self.scatter._offsets3d = (self.df['index_x_coor'], self.df['index_y_coor'], self.df['index_z_coor'])\n",
    "\n",
    "\n",
    "        self.canvas.draw()"
   ]
  },
  {
   "cell_type": "code",
   "execution_count": 7,
   "metadata": {
    "ExecuteTime": {
     "end_time": "2024-01-21T10:40:40.727216Z",
     "start_time": "2024-01-21T10:39:34.570134Z"
    }
   },
   "outputs": [
    {
     "ename": "KeyboardInterrupt",
     "evalue": "",
     "output_type": "error",
     "traceback": [
      "\u001B[0;31m---------------------------------------------------------------------------\u001B[0m",
      "\u001B[0;31mKeyboardInterrupt\u001B[0m                         Traceback (most recent call last)",
      "File \u001B[0;32m~/Documents/GitHub/Leap_Python/venv/lib/python3.8/site-packages/matplotlib/backends/backend_qtagg.py:18\u001B[0m, in \u001B[0;36mFigureCanvasQTAgg.paintEvent\u001B[0;34m(self, event)\u001B[0m\n\u001B[1;32m     16\u001B[0m \u001B[38;5;28;01mclass\u001B[39;00m \u001B[38;5;21;01mFigureCanvasQTAgg\u001B[39;00m(FigureCanvasAgg, FigureCanvasQT):\n\u001B[0;32m---> 18\u001B[0m     \u001B[38;5;28;01mdef\u001B[39;00m \u001B[38;5;21mpaintEvent\u001B[39m(\u001B[38;5;28mself\u001B[39m, event):\n\u001B[1;32m     19\u001B[0m \u001B[38;5;250m        \u001B[39m\u001B[38;5;124;03m\"\"\"\u001B[39;00m\n\u001B[1;32m     20\u001B[0m \u001B[38;5;124;03m        Copy the image from the Agg canvas to the qt.drawable.\u001B[39;00m\n\u001B[1;32m     21\u001B[0m \n\u001B[1;32m     22\u001B[0m \u001B[38;5;124;03m        In Qt, all drawing should be done inside of here when a widget is\u001B[39;00m\n\u001B[1;32m     23\u001B[0m \u001B[38;5;124;03m        shown onscreen.\u001B[39;00m\n\u001B[1;32m     24\u001B[0m \u001B[38;5;124;03m        \"\"\"\u001B[39;00m\n\u001B[1;32m     25\u001B[0m         \u001B[38;5;28mself\u001B[39m\u001B[38;5;241m.\u001B[39m_draw_idle()  \u001B[38;5;66;03m# Only does something if a draw is pending.\u001B[39;00m\n",
      "\u001B[0;31mKeyboardInterrupt\u001B[0m: "
     ]
    },
    {
     "ename": "SystemExit",
     "evalue": "0",
     "output_type": "error",
     "traceback": [
      "An exception has occurred, use %tb to see the full traceback.\n",
      "\u001B[0;31mSystemExit\u001B[0m\u001B[0;31m:\u001B[0m 0\n"
     ]
    },
    {
     "name": "stderr",
     "output_type": "stream",
     "text": [
      "/Users/admin/Documents/GitHub/Leap_Python/venv/lib/python3.8/site-packages/IPython/core/interactiveshell.py:3516: UserWarning: To exit: use 'exit', 'quit', or Ctrl-D.\n",
      "  warn(\"To exit: use 'exit', 'quit', or Ctrl-D.\", stacklevel=1)\n"
     ]
    }
   ],
   "source": [
    "def main():\n",
    "    app = QApplication(sys.argv)\n",
    "    df = pd.read_csv('../Signatures/Object_Bird/1.csv')\n",
    "    mainWindow = RealTime3DPlot(df)\n",
    "    sys.exit(app.exec_())\n",
    "\n",
    "if __name__ == '__main__':\n",
    "    main()"
   ]
  },
  {
   "cell_type": "code",
   "outputs": [],
   "source": [],
   "metadata": {
    "collapsed": false
   }
  }
 ],
 "metadata": {
  "kernelspec": {
   "display_name": ".venv",
   "language": "python",
   "name": "python3"
  },
  "language_info": {
   "codemirror_mode": {
    "name": "ipython",
    "version": 3
   },
   "file_extension": ".py",
   "mimetype": "text/x-python",
   "name": "python",
   "nbconvert_exporter": "python",
   "pygments_lexer": "ipython3",
   "version": "3.9.10"
  }
 },
 "nbformat": 4,
 "nbformat_minor": 2
}

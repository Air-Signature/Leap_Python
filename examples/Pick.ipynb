{
 "cells": [
  {
   "cell_type": "code",
   "execution_count": 1,
   "metadata": {},
   "outputs": [],
   "source": [
    "import sys\n",
    "import matplotlib.pyplot as plt\n",
    "from mpl_toolkits.mplot3d import Axes3D\n",
    "from PyQt5.QtWidgets import QApplication, QMainWindow, QSizePolicy, QVBoxLayout, QWidget\n",
    "from matplotlib.backends.backend_qt5agg import FigureCanvasQTAgg as FigureCanvas\n",
    "import pandas as pd"
   ]
  },
  {
   "cell_type": "code",
   "execution_count": 2,
   "metadata": {},
   "outputs": [],
   "source": [
    "class RealTime3DPlot(QMainWindow):\n",
    "    def __init__(self, df):\n",
    "        super().__init__()\n",
    "\n",
    "        self.df = df\n",
    "\n",
    "        self.initUI()\n",
    "\n",
    "    def initUI(self):\n",
    "        self.setWindowTitle('Real-Time 3D Plot')\n",
    "        self.setGeometry(100, 100, 800, 600)\n",
    "\n",
    "        self.centralWidget = QWidget(self)\n",
    "        self.setCentralWidget(self.centralWidget)\n",
    "\n",
    "        self.layout = QVBoxLayout(self.centralWidget)\n",
    "\n",
    "        self.fig = plt.Figure()\n",
    "        self.ax = self.fig.add_subplot(111, projection='3d')\n",
    "        self.scatter = self.ax.scatter(self.df['index_x_coor'], self.df['index_y_coor'], self.df['index_z_coor'], c='r', picker=True)\n",
    "\n",
    "\n",
    "        self.ax.set_xlabel('X')\n",
    "        self.ax.set_ylabel('Y')\n",
    "        self.ax.set_zlabel('Z')\n",
    "\n",
    "        self.ax.view_init(elev=90, azim=-90)\n",
    "\n",
    "        self.canvas = FigureCanvas(self.fig)\n",
    "        self.canvas.setSizePolicy(QSizePolicy.Expanding, QSizePolicy.Expanding)\n",
    "\n",
    "        self.layout.addWidget(self.canvas)\n",
    "\n",
    "        self.canvas.mpl_connect('pick_event', self.on_pick)\n",
    "\n",
    "        self.show()\n",
    "        \n",
    "    def on_pick(self, event):\n",
    "        ind = event.ind\n",
    "\n",
    "        # Remove selected points from the DataFrame\n",
    "        self.df.drop(self.df.index[ind], inplace=True)\n",
    "\n",
    "        # Update the scatter plot\n",
    "        self.scatter._offsets3d = (self.df['index_x_coor'], self.df['index_y_coor'], self.df['index_z_coor'])\n",
    "\n",
    "\n",
    "        self.canvas.draw()"
   ]
  },
  {
   "cell_type": "code",
   "execution_count": 5,
   "metadata": {},
   "outputs": [],
   "source": [
    "def main():\n",
    "    app = QApplication(sys.argv)\n",
    "    df = pd.read_csv('../Signatures/Object_Bird/1.csv')\n",
    "    mainWindow = RealTime3DPlot(df)\n",
    "    sys.exit(app.exec_())\n",
    "\n",
    "if __name__ == '__main__':\n",
    "    main()"
   ]
  }
 ],
 "metadata": {
  "kernelspec": {
   "display_name": ".venv",
   "language": "python",
   "name": "python3"
  },
  "language_info": {
   "codemirror_mode": {
    "name": "ipython",
    "version": 3
   },
   "file_extension": ".py",
   "mimetype": "text/x-python",
   "name": "python",
   "nbconvert_exporter": "python",
   "pygments_lexer": "ipython3",
   "version": "3.9.10"
  }
 },
 "nbformat": 4,
 "nbformat_minor": 2
}

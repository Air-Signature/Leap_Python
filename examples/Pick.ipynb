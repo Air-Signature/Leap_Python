{
 "cells": [
  {
   "cell_type": "code",
   "execution_count": 2,
   "metadata": {
    "ExecuteTime": {
     "end_time": "2024-01-21T10:38:08.308386Z",
     "start_time": "2024-01-21T10:38:08.304126Z"
    }
   },
   "outputs": [],
   "source": [
    "import sys\n",
    "import matplotlib.pyplot as plt\n",
    "from mpl_toolkits.mplot3d import Axes3D\n",
    "from PyQt5.QtWidgets import QApplication, QMainWindow, QSizePolicy, QVBoxLayout, QWidget\n",
    "from matplotlib.backends.backend_qt5agg import FigureCanvasQTAgg as FigureCanvas\n",
    "import pandas as pd"
   ]
  },
  {
   "cell_type": "code",
   "execution_count": 3,
   "metadata": {
    "ExecuteTime": {
     "end_time": "2024-01-21T10:38:08.314093Z",
     "start_time": "2024-01-21T10:38:08.311416Z"
    }
   },
   "outputs": [],
   "source": [
    "class RealTime3DPlot(QMainWindow):\n",
    "    def __init__(self, df):\n",
    "        super().__init__()\n",
    "\n",
    "        self.df = df\n",
    "\n",
    "        self.initUI()\n",
    "\n",
    "    def initUI(self):\n",
    "        self.setWindowTitle('Real-Time 3D Plot')\n",
    "        self.setGeometry(100, 100, 800, 600)\n",
    "\n",
    "        self.centralWidget = QWidget(self)\n",
    "        self.setCentralWidget(self.centralWidget)\n",
    "\n",
    "        self.layout = QVBoxLayout(self.centralWidget)\n",
    "\n",
    "        self.fig = plt.Figure()\n",
    "        self.ax = self.fig.add_subplot(111, projection='3d')\n",
    "        self.scatter = self.ax.scatter(self.df['index_x_coor'], self.df['index_y_coor'], self.df['index_z_coor'], c='r', picker=True)\n",
    "\n",
    "\n",
    "        self.ax.set_xlabel('X')\n",
    "        self.ax.set_ylabel('Y')\n",
    "        self.ax.set_zlabel('Z')\n",
    "\n",
    "        self.ax.view_init(elev=90, azim=-90)\n",
    "\n",
    "        self.canvas = FigureCanvas(self.fig)\n",
    "        self.canvas.setSizePolicy(QSizePolicy.Expanding, QSizePolicy.Expanding)\n",
    "\n",
    "        self.layout.addWidget(self.canvas)\n",
    "\n",
    "        self.canvas.mpl_connect('pick_event', self.on_pick)\n",
    "\n",
    "        self.show()\n",
    "        \n",
    "    def on_pick(self, event):\n",
    "        ind = event.ind\n",
    "\n",
    "        # Remove selected points from the DataFrame\n",
    "        self.df.drop(self.df.index[ind], inplace=True)\n",
    "\n",
    "        # Update the scatter plot\n",
    "        self.scatter._offsets3d = (self.df['index_x_coor'], self.df['index_y_coor'], self.df['index_z_coor'])\n",
    "\n",
    "\n",
    "        self.canvas.draw()"
   ]
  },
  {
   "cell_type": "code",
   "execution_count": 4,
   "metadata": {
    "ExecuteTime": {
     "end_time": "2024-01-21T10:40:40.727216Z",
     "start_time": "2024-01-21T10:39:34.570134Z"
    }
   },
   "outputs": [
    {
     "name": "stderr",
     "output_type": "stream",
     "text": [
      "2024-05-11 10:56:36.487 Python[19535:1642206] WARNING: Secure coding is not enabled for restorable state! Enable secure coding by implementing NSApplicationDelegate.applicationSupportsSecureRestorableState: and returning YES.\n"
     ]
    },
    {
     "ename": "SystemExit",
     "evalue": "0",
     "output_type": "error",
     "traceback": [
      "An exception has occurred, use %tb to see the full traceback.\n",
      "\u001b[0;31mSystemExit\u001b[0m\u001b[0;31m:\u001b[0m 0\n"
     ]
    },
    {
     "name": "stderr",
     "output_type": "stream",
     "text": [
      "/Users/vinojith/Documents/GitHub/Leap_Python/.venv/lib/python3.12/site-packages/IPython/core/interactiveshell.py:3585: UserWarning: To exit: use 'exit', 'quit', or Ctrl-D.\n",
      "  warn(\"To exit: use 'exit', 'quit', or Ctrl-D.\", stacklevel=1)\n"
     ]
    }
   ],
   "source": [
    "def main():\n",
    "    app = QApplication(sys.argv)\n",
    "    df = pd.read_csv('../Signatures/Bird/1.csv')\n",
    "    mainWindow = RealTime3DPlot(df)\n",
    "    sys.exit(app.exec_())\n",
    "\n",
    "if __name__ == '__main__':\n",
    "    main()"
   ]
  },
  {
   "cell_type": "code",
   "execution_count": null,
   "metadata": {
    "collapsed": false
   },
   "outputs": [],
   "source": []
  }
 ],
 "metadata": {
  "kernelspec": {
   "display_name": ".venv",
   "language": "python",
   "name": "python3"
  },
  "language_info": {
   "codemirror_mode": {
    "name": "ipython",
    "version": 3
   },
   "file_extension": ".py",
   "mimetype": "text/x-python",
   "name": "python",
   "nbconvert_exporter": "python",
   "pygments_lexer": "ipython3",
   "version": "3.12.3"
  }
 },
 "nbformat": 4,
 "nbformat_minor": 2
}
